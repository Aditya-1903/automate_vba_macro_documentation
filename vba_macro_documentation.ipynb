{
  "nbformat": 4,
  "nbformat_minor": 0,
  "metadata": {
    "colab": {
      "provenance": []
    },
    "kernelspec": {
      "name": "python3",
      "display_name": "Python 3"
    },
    "language_info": {
      "name": "python"
    }
  },
  "cells": [
    {
      "cell_type": "markdown",
      "source": [
        "###**Automating VBA Macro Documentation and Transformation**"
      ],
      "metadata": {
        "id": "nwlM3jSdqFAS"
      }
    },
    {
      "cell_type": "markdown",
      "source": [
        "**Team:**  \n",
        "*   **20PD02** - Aditya Ramanathan\n",
        "*   **20PD06** - Ashwin KR\n",
        "\n"
      ],
      "metadata": {
        "id": "ueh7-wZcqoD7"
      }
    },
    {
      "cell_type": "markdown",
      "source": [
        "**Objective:**  \n",
        "\n",
        "*   The goal is to develop a solution that automates the documentation and understanding of legacy VBA macros used in critical processes."
      ],
      "metadata": {
        "id": "yZNOq_MuqU3U"
      }
    },
    {
      "cell_type": "code",
      "execution_count": null,
      "metadata": {
        "colab": {
          "base_uri": "https://localhost:8080/"
        },
        "id": "J5gUyjy1SV4g",
        "outputId": "d25d972a-bd59-49bb-d5d7-32f2e8f6d71d"
      },
      "outputs": [
        {
          "output_type": "stream",
          "name": "stdout",
          "text": [
            "\u001b[2K     \u001b[90m━━━━━━━━━━━━━━━━━━━━━━━━━━━━━━━━━━━━━━━━\u001b[0m \u001b[32m989.4/989.4 kB\u001b[0m \u001b[31m1.1 MB/s\u001b[0m eta \u001b[36m0:00:00\u001b[0m\n",
            "\u001b[2K     \u001b[90m━━━━━━━━━━━━━━━━━━━━━━━━━━━━━━━━━━━━━━━━\u001b[0m \u001b[32m114.6/114.6 kB\u001b[0m \u001b[31m1.2 MB/s\u001b[0m eta \u001b[36m0:00:00\u001b[0m\n",
            "\u001b[2K     \u001b[90m━━━━━━━━━━━━━━━━━━━━━━━━━━━━━━━━━━━━━━━━\u001b[0m \u001b[32m92.7/92.7 kB\u001b[0m \u001b[31m1.2 MB/s\u001b[0m eta \u001b[36m0:00:00\u001b[0m\n",
            "\u001b[2K     \u001b[90m━━━━━━━━━━━━━━━━━━━━━━━━━━━━━━━━━━━━━━━━\u001b[0m \u001b[32m48.1/48.1 kB\u001b[0m \u001b[31m1.0 MB/s\u001b[0m eta \u001b[36m0:00:00\u001b[0m\n",
            "\u001b[?25h"
          ]
        }
      ],
      "source": [
        "pip install --quiet oletools"
      ]
    },
    {
      "cell_type": "code",
      "source": [
        "pip install --quiet langchain langchain-core langchain-community langchain-groq"
      ],
      "metadata": {
        "id": "YyPaDC4XqhqF"
      },
      "execution_count": null,
      "outputs": []
    },
    {
      "cell_type": "code",
      "source": [
        "#import necessary libraries\n",
        "\n",
        "import os\n",
        "import re\n",
        "from oletools.olevba import VBA_Parser\n",
        "\n",
        "from langchain_core.prompts import PromptTemplate\n",
        "from langchain_groq import ChatGroq"
      ],
      "metadata": {
        "id": "lEezqXSIrIk5"
      },
      "execution_count": null,
      "outputs": []
    },
    {
      "cell_type": "code",
      "source": [
        "import warnings\n",
        "warnings.filterwarnings(\"ignore\")"
      ],
      "metadata": {
        "id": "5k_tO3UdtlX7"
      },
      "execution_count": null,
      "outputs": []
    },
    {
      "cell_type": "code",
      "source": [
        "def extract_vba_from_excel(file_path):\n",
        "    '''\n",
        "    Args:\n",
        "      file_path (str): Location to the Excel Workbook\n",
        "    Returns:\n",
        "      code (str): The VBA Macro extracted from the Workbook (if available else None)\n",
        "    '''\n",
        "    vba_parser = VBA_Parser(file_path)\n",
        "\n",
        "    if vba_parser.detect_vba_macros():\n",
        "      vba_modules = vba_parser.extract_all_macros()\n",
        "    else:\n",
        "      print(\"No Macros found in the Given Workbook!\")\n",
        "      return \"\"\n",
        "\n",
        "    code = \"\"\n",
        "    for _, _, vba_name, vba_code in vba_modules:\n",
        "      if vba_name.endswith('.bas'):\n",
        "        code += vba_code + '\\n'\n",
        "\n",
        "    if code:\n",
        "      return code\n",
        "    else:\n",
        "      print(\"The Macros do not contain any written code!\")\n",
        "      return \"\"\n",
        "\n",
        "def preprocess_code(vba_code):\n",
        "    '''\n",
        "    Args:\n",
        "      vba_code (str): The VBA Macro code extracted from the Workbook\n",
        "    Returns:\n",
        "      vba_code_processed (str): The VBA Macro code after processing\n",
        "    '''\n",
        "    vba_code = vba_code.replace('\\r', ' ').replace('\\t', ' ')\n",
        "\n",
        "    _RE_COMBINE_WHITESPACE = re.compile(r\"\\s+\") #strip multiple whitespaces\n",
        "    vba_code_processed = _RE_COMBINE_WHITESPACE.sub(\" \", vba_code).strip()\n",
        "\n",
        "    return vba_code_processed\n"
      ],
      "metadata": {
        "id": "uQE6ymUXSbnY"
      },
      "execution_count": null,
      "outputs": []
    },
    {
      "cell_type": "code",
      "source": [
        "excel_file_path = '/content/security_test.xlsm'\n",
        "\n",
        "vba_code_unprocessed = extract_vba_from_excel(excel_file_path)\n",
        "vba_code = preprocess_code(vba_code_unprocessed)\n",
        "\n",
        "print(vba_code)"
      ],
      "metadata": {
        "colab": {
          "base_uri": "https://localhost:8080/"
        },
        "id": "Af5Of2maSFtU",
        "outputId": "2168b4e7-1793-46cc-9fb4-eac5673603d0"
      },
      "execution_count": null,
      "outputs": [
        {
          "output_type": "stream",
          "name": "stderr",
          "text": [
            "WARNING:olevba:For now, VBA stomping cannot be detected for files in memory\n"
          ]
        },
        {
          "output_type": "stream",
          "name": "stdout",
          "text": [
            "Attribute VB_Name = \"Module1\" Sub security_test() Dim con As Object Dim rs As Object Dim username As String Dim password As String username = InputBox(\"Enter username:\") password = InputBox(\"Enter password:\") Set con = CreateObject(\"ADODB.Connection\") Set rs = CreateObject(\"ADODB.Recordset\") con.Open \"Provider=SQLOLEDB;Data Source=MyDB;User Id=admin;Password=admin;\" Dim sql As String sql = \"INSERT INTO Users (username, password) VALUES ('\" & username & \"', '\" & password & \"');\" con.Execute sql con.Close End Sub\n"
          ]
        }
      ]
    },
    {
      "cell_type": "code",
      "source": [],
      "metadata": {
        "id": "nLFnhk0ZzzXx"
      },
      "execution_count": null,
      "outputs": []
    },
    {
      "cell_type": "code",
      "source": [],
      "metadata": {
        "id": "8u-NUEXCwecp"
      },
      "execution_count": null,
      "outputs": []
    },
    {
      "cell_type": "code",
      "source": [
        "def initialize_llm_via_groq(api_key, model):\n",
        "  '''\n",
        "  Args:\n",
        "    api_key (str): API key to access models via GroqCloud\n",
        "    model (str)  : Name of the Large Language Model (LLM) to be used\n",
        "  Returns:\n",
        "    llm (langchain_groq.chat_model) : The intitalized LLM\n",
        "  '''\n",
        "\n",
        "  llm = ChatGroq(\n",
        "        temperature = 0,\n",
        "        model = model,\n",
        "        api_key = api_key\n",
        "       )\n",
        "\n",
        "  return llm"
      ],
      "metadata": {
        "id": "qdHRf3f8zofu"
      },
      "execution_count": null,
      "outputs": []
    },
    {
      "cell_type": "code",
      "source": [
        "model=\"mixtral-8x7b-32768\"\n",
        "api_key = \"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\"\n",
        "\n",
        "llm = initialize_llm_via_groq(api_key, model)"
      ],
      "metadata": {
        "id": "4QYBvmu_8e43"
      },
      "execution_count": null,
      "outputs": []
    },
    {
      "cell_type": "code",
      "source": [],
      "metadata": {
        "id": "i9mdv-5ivj3Z"
      },
      "execution_count": null,
      "outputs": []
    },
    {
      "cell_type": "markdown",
      "source": [
        "**Automated VBA Macro Documentation**\n",
        "\n",
        "*   Automatically analyzes Excel VBA Macros and generates a comprehensive documentation of the underlying logic, data flow and process flow.\n",
        "\n",
        "\n"
      ],
      "metadata": {
        "id": "u1BrnojxaDWJ"
      }
    },
    {
      "cell_type": "code",
      "source": [
        "prompt_template_vba_macro_documentation=\"\"\"\n",
        "You are a helpful assistant.\n",
        "You are responsible for analyzing the given VBA Macro code and generating a comprehensive documentation of the underlying logic, data flow and process flow.\n",
        "Your response must definitely contain the underlying logic, data flow and process flow for each of the subroutines available in the given code.\n",
        "Avoid stopwords, special characters or escape sequences in your response. Ignore warning statements in the code if any.\n",
        "VBA Code:{question}\n",
        "\"\"\"\n",
        "\n",
        "prompt=PromptTemplate(template=prompt_template_vba_macro_documentation)\n",
        "\n",
        "query_with_prompt = prompt.format(question = vba_code)"
      ],
      "metadata": {
        "id": "D7VEe9tpweZP"
      },
      "execution_count": null,
      "outputs": []
    },
    {
      "cell_type": "code",
      "source": [
        "vba_macro_documentation = llm.invoke(query_with_prompt).content\n",
        "vba_macro_documentation.replace('\\n', ' ')"
      ],
      "metadata": {
        "colab": {
          "base_uri": "https://localhost:8080/",
          "height": 261
        },
        "id": "Gtx3LPr6weWK",
        "outputId": "ccaaa042-443c-4b5d-9fae-447f1703a0ed"
      },
      "execution_count": null,
      "outputs": [
        {
          "output_type": "execute_result",
          "data": {
            "text/plain": [
              "'Sure, I\\'d be happy to help you understand the VBA macro code provided. Here\\'s a comprehensive documentation of the underlying logic, data flow, and process flow for the `security_test` subroutine:  **Subroutine Name:** security\\\\_test  **Purpose:** This subroutine prompts the user to enter a username and password, and then attempts to insert those values into a SQL database table called \"Users\".  **Logic:**  1. The subroutine begins by declaring variables for the database connection object (`con`), the database recordset object (`rs`), the username (`username`), and the password (`password`). 2. The `username` and `password` variables are populated with values entered by the user in response to `InputBox` prompts. 3. A new database connection object (`con`) is created using the `CreateObject` method and the connection string for a SQL database called \"MyDB\". The connection string includes the username and password for a database user with administrative privileges. 4. A new database recordset object (`rs`) is created using the `CreateObject` method. 5. The `con` object\\'s `Open` method is called to establish a connection to the database using the connection string. 6. A SQL insert statement (`sql`) is created using the `username` and `password` variables. The statement inserts the values of those variables into the \"Users\" table\\'s \"username\" and \"password\" columns. 7. The `con` object\\'s `Execute` method is called to execute the SQL insert statement. 8. The `con` object\\'s `Close` method is called to close the database connection.  **Data Flow:**  1. The `username` and `password` variables are populated with data entered by the user. 2. The `con` object is populated with a connection to the \"MyDB\" database. 3. The `sql` variable is populated with a SQL insert statement. 4. The `rs` object is populated with the result of executing the SQL insert statement.  **Process Flow:**  1. The subroutine prompts the user to enter a username and password. 2. The subroutine creates a new database connection object and populates it with a connection to the \"MyDB\" database. 3. The subroutine creates a new database recordset object. 4. The subroutine creates a SQL insert statement using the `username` and `password` variables. 5. The subroutine executes the SQL insert statement using the `con` object. 6. The subroutine closes the database connection using the `con` object.'"
            ],
            "application/vnd.google.colaboratory.intrinsic+json": {
              "type": "string"
            }
          },
          "metadata": {},
          "execution_count": 15
        }
      ]
    },
    {
      "cell_type": "code",
      "source": [],
      "metadata": {
        "id": "6tUoj1HPZ_6u"
      },
      "execution_count": null,
      "outputs": []
    },
    {
      "cell_type": "markdown",
      "source": [
        "**Functional Logic Extractor**\n",
        "\n",
        "\n",
        "*   Extracts and explains the functional logic embedded within the VBA Macros\n",
        "\n"
      ],
      "metadata": {
        "id": "Uy1JzGt4aAkR"
      }
    },
    {
      "cell_type": "code",
      "source": [
        "prompt_template_functional_logic=\"\"\"\n",
        "You are a helpful assistant.\n",
        "You are responsible for extracting and explaining the functional logic embedded within the given VBA macro.\n",
        "Your response should help technical and non-technical stakeholders understand the business logic, supporting better decision-making\n",
        "and transformation efforts.\n",
        "Structure your response using '~', splitting the response wherever necessary.\n",
        "Avoid stopwords, special characters or escape sequences in your response. Ignore warning statements in the code if any.\n",
        "VBA Code:{question}\n",
        "\"\"\"\n",
        "\n",
        "prompt=PromptTemplate(template=prompt_template_functional_logic)\n",
        "\n",
        "query_with_prompt = prompt.format(question = vba_code)"
      ],
      "metadata": {
        "id": "oOW9gESx2gVG"
      },
      "execution_count": null,
      "outputs": []
    },
    {
      "cell_type": "code",
      "source": [
        "vba_macro_functional_logic = llm.invoke(query_with_prompt).content\n",
        "vba_macro_functional_logic.replace('\\n', ' ')"
      ],
      "metadata": {
        "colab": {
          "base_uri": "https://localhost:8080/",
          "height": 175
        },
        "id": "CL1i3o6LweTG",
        "outputId": "346afe3f-919b-42b1-dd96-dfcf42a1f3c2"
      },
      "execution_count": null,
      "outputs": [
        {
          "output_type": "execute_result",
          "data": {
            "text/plain": [
              "'Functional Logic:  ~ Extracts and explains the functional logic within the VBA macro named \"security\\\\_test\"  ~ Three main functional components:   1. Data Input: Username and Password input via InputBox   2. Database Connection: ADODB Objects for Connection and Recordset   3. Data Insertion: SQL INSERT statement to add user data into the \\'Users\\' table  Data Input: ~ Username and password are obtained through InputBox prompts ~ User input is stored in the variables \"username\" and \"password\"  Database Connection: ~ ADODB Objects for Connection and Recordset are created ~ Connection is established using a predefined connection string   - Provider: SQLOLEDB   - Data Source: MyDB   - User Id: admin   - Password: admin  Data Insertion: ~ SQL INSERT statement is constructed using the input variables \"username\" and \"password\" ~ The INSERT statement is executed using the \"con.Execute\" method ~ Connection is closed using the \"con.Close\" method  Implications: ~ This macro allows for the addition of new user accounts directly into the database ~ Risks include potential SQL Injection attacks due to the direct usage of user input in the SQL statement ~ Lack of error handling may cause issues in case of incorrect inputs or connection failures  Decision-making and Transformation Efforts: ~ Understanding this macro\\'s functionality can help identify potential security risks and areas for improvement ~ Implementing parameterized queries or prepared statements can mitigate SQL Injection risks ~ Adding error handling can improve robustness and maintainability of the code'"
            ],
            "application/vnd.google.colaboratory.intrinsic+json": {
              "type": "string"
            }
          },
          "metadata": {},
          "execution_count": 17
        }
      ]
    },
    {
      "cell_type": "code",
      "source": [],
      "metadata": {
        "id": "q0oEa3Bt464-"
      },
      "execution_count": null,
      "outputs": []
    },
    {
      "cell_type": "markdown",
      "source": [
        "**Automated Process Flow Visualization**\n",
        "\n",
        "*   Visualize the process flow of VBA Macros through interactive diagrams.\n",
        "\n"
      ],
      "metadata": {
        "id": "R00pDzhx1Iv6"
      }
    },
    {
      "cell_type": "code",
      "source": [
        "def extract_nodes_and_links(vba_code):\n",
        "    '''\n",
        "    Args:\n",
        "      vba_code (str): The VBA Macro code extracted\n",
        "    Returns:\n",
        "      nodes (list[str]): The subroutines forming the nodes in the process flow\n",
        "      links (list[str]): The calls between subroutines forming the links between nodes\n",
        "    '''\n",
        "    nodes = []\n",
        "    links = []\n",
        "\n",
        "    #define regex patterns to match subroutine names and calls\n",
        "    subroutine_pattern = r'Sub\\s+(\\w+)\\('\n",
        "    call_pattern = r'Call\\s+(\\w+)\\b'\n",
        "\n",
        "    #find all subroutine names (nodes in the process flow)\n",
        "    subroutine_matches = re.findall(subroutine_pattern, vba_code)\n",
        "    nodes.extend(subroutine_matches)\n",
        "\n",
        "    #find all calls between subroutines (links between nodes)\n",
        "    for match in re.finditer(subroutine_pattern, vba_code):\n",
        "        subroutine_name = match.group(1)\n",
        "        start = match.end()\n",
        "        end = re.search(r'End\\s+Sub', vba_code[start:]).start()\n",
        "        subroutine_body = vba_code[start:start+end]\n",
        "        call_matches = re.findall(call_pattern, subroutine_body)\n",
        "        for call in call_matches:\n",
        "            if call in nodes:\n",
        "                links.append((subroutine_name, call))\n",
        "\n",
        "    return nodes, links\n",
        "\n",
        "nodes, links = extract_nodes_and_links(vba_code)\n",
        "\n",
        "print(\"Nodes:\", nodes)\n",
        "print(\"Links:\", links)"
      ],
      "metadata": {
        "colab": {
          "base_uri": "https://localhost:8080/"
        },
        "id": "vD_o9H9RbxqO",
        "outputId": "03e1fc73-44b5-403c-f278-cbaf63072d4d"
      },
      "execution_count": null,
      "outputs": [
        {
          "output_type": "stream",
          "name": "stdout",
          "text": [
            "Nodes: ['main', 'init', 'setupEnvironment', 'loadData', 'fetchFromDatabase', 'readFromFile', 'processData', 'transformData', 'analyzeData', 'generateReport', 'finalize', 'saveResults', 'cleanup']\n",
            "Links: [('main', 'init'), ('main', 'processData'), ('main', 'finalize'), ('init', 'setupEnvironment'), ('init', 'loadData'), ('loadData', 'fetchFromDatabase'), ('loadData', 'readFromFile'), ('processData', 'transformData'), ('processData', 'analyzeData'), ('analyzeData', 'generateReport'), ('finalize', 'saveResults'), ('finalize', 'cleanup')]\n"
          ]
        }
      ]
    },
    {
      "cell_type": "code",
      "source": [
        "nodes_js = \",\\n\".join([f\"{{ id: '{node}' }}\" for node in nodes])\n",
        "links_js = \",\\n\".join([f\"{{ source: '{link[0]}', target: '{link[1]}' }}\" for link in links])\n",
        "\n",
        "with open('data.js', 'w') as f:\n",
        "    f.write(f\"const nodes = [\\n{nodes_js}\\n];\\n\\nconst links = [\\n{links_js}\\n];\\n\")\n",
        "\n",
        "print(\"Wrote to data.js\") #to be used in streamlit app to visualize process flow"
      ],
      "metadata": {
        "colab": {
          "base_uri": "https://localhost:8080/"
        },
        "id": "kjenlVDQw42p",
        "outputId": "afaa5b43-2b63-466c-c9bc-b1ec5b577c51"
      },
      "execution_count": null,
      "outputs": [
        {
          "output_type": "stream",
          "name": "stdout",
          "text": [
            "Wrote to data.js\n"
          ]
        }
      ]
    },
    {
      "cell_type": "code",
      "source": [],
      "metadata": {
        "id": "b8rQ7l0v5Yrx"
      },
      "execution_count": null,
      "outputs": []
    },
    {
      "cell_type": "markdown",
      "source": [
        "**Code Quality and Efficiency Analyzer**\n",
        "\n",
        "\n",
        "*   Evaluates the quality and efficiency of VBA Macros, identifying potential optimization opportunities to improve performance.\n"
      ],
      "metadata": {
        "id": "r796Ed-55qWk"
      }
    },
    {
      "cell_type": "code",
      "source": [
        "prompt_template_code_quality=\"\"\"\n",
        "Please analyze the provided VBA Macro code and evaluate its quality and efficiency.\n",
        "Identify potential inefficiencies, redundant code, and optimization opportunities to improve macro performance and reliability.\n",
        "Pay particular attention in analyzing:\n",
        "  Code Efficiency: Assess if the code is optimized for speed and resource usage.\n",
        "  Redundant Code: Identify any sections of code that repeat functionality unnecessarily.\n",
        "  Optimization Opportunities: Suggest improvements or optimizations that could enhance the macro's performance.\n",
        "Please provide only a detailed feedback on each of these aspects to guide improvements in the given VBA Macro code.\n",
        "Do not provide any VBA code as a part of the response.\n",
        "Here is the VBA Macro code snippet:\n",
        "VBA Code:{question}\n",
        "\"\"\"\n",
        "\n",
        "prompt=PromptTemplate(template=prompt_template_code_quality)\n",
        "\n",
        "query_with_prompt = prompt.format(question = vba_code)\n"
      ],
      "metadata": {
        "id": "Xqxju7LI5Y_K"
      },
      "execution_count": null,
      "outputs": []
    },
    {
      "cell_type": "code",
      "source": [
        "vba_macro_code_quality = llm.invoke(query_with_prompt).content\n",
        "vba_macro_code_quality.replace('\\n', ' ')"
      ],
      "metadata": {
        "colab": {
          "base_uri": "https://localhost:8080/",
          "height": 227
        },
        "id": "ocbzahsW5puF",
        "outputId": "891e9fd0-8256-474f-d2ae-800d9cc43ba3"
      },
      "execution_count": null,
      "outputs": [
        {
          "output_type": "execute_result",
          "data": {
            "text/plain": [
              "'Code Efficiency: The code could be more efficient by using early binding instead of late binding for the ADODB objects. Early binding provides IntelliSense and type checking, which can help catch errors at compile time rather than at runtime. Additionally, early binding is faster than late binding because it avoids the overhead of runtime object creation. To use early binding, you would need to set a reference to the Microsoft ActiveX Data Objects Library in the VBA editor (Developer tab -> References).  Redundant Code: The code does not contain any obvious redundancies. However, it is generally a good practice to validate user input, such as checking if the username and password fields are empty or contain only whitespace. This would help prevent potential errors and improve the overall robustness of the code.  Optimization Opportunities: 1. Use parameterized queries instead of concatenating SQL strings to prevent SQL injection attacks and improve performance. Parameterized queries can cache execution plans, which can lead to faster query execution times. 2. Consider using the ConnectionString property of the ADODB.Connection object to set the connection properties instead of hardcoding them in the Open method. This would make it easier to manage and update connection settings. 3. Use the Execute method of the ADODB.Connection object with the adCmdText parameter to execute SQL statements. This is a more secure and efficient way to execute SQL statements than using the Execute method of the ADODB.Recordset object. 4. Close the Recordset object before closing the Connection object. While not strictly necessary in this case, it is a good practice to close resources in the reverse order they were opened. 5. Consider adding error handling to the code to handle potential errors, such as connection failures or SQL syntax errors. This would help improve the reliability and robustness of the code.  In summary, the provided VBA macro code could be improved by using early binding, validating user input, using parameterized queries, and adding error handling. These changes would help improve the efficiency, reliability, and security of the code.'"
            ],
            "application/vnd.google.colaboratory.intrinsic+json": {
              "type": "string"
            }
          },
          "metadata": {},
          "execution_count": 19
        }
      ]
    },
    {
      "cell_type": "code",
      "source": [],
      "metadata": {
        "id": "efbswNYq5xx5"
      },
      "execution_count": null,
      "outputs": []
    },
    {
      "cell_type": "markdown",
      "source": [
        "**Data Flow Analysis Optimization**\n",
        "\n",
        "\n",
        "*   Analyzes the data flow within the VBA Macros to enhance the efficiency and performance of data processing tasks.\n",
        "\n"
      ],
      "metadata": {
        "id": "Sd06ccgm-7gF"
      }
    },
    {
      "cell_type": "code",
      "source": [
        "prompt_template_data_flow=\"\"\"\n",
        "Please analyze the provided VBA Macro code and evaluate the data flow within the macros.\n",
        "Identify bottlenecks and opportunities for optimization to enhance efficiency and performance in data processing tasks. Specifically, focus on:\n",
        "Data Flow Analysis: Map out how data moves through the macro from input to output.\n",
        "Bottlenecks: Identify points in the code where data processing slows down or encounters inefficiencies.\n",
        "Optimization Opportunities: Recommend changes or optimizations to streamline data processing and improve overall performance.\n",
        "Resource Usage: Assess how efficiently resources are utilized during data processing.\n",
        "Scalability: Consider how well the macro handles varying data volumes and complexity.\n",
        "\n",
        "Please provide detailed insights and recommendations to optimize the VBA Macro code for improved efficiency and performance in data processing tasks.\n",
        "Here is the VBA Macro code snippet:\n",
        "VBA Code:{question}\n",
        "\"\"\"\n",
        "\n",
        "prompt=PromptTemplate(template=prompt_template_data_flow)\n",
        "\n",
        "query_with_prompt = prompt.format(question = vba_code)\n"
      ],
      "metadata": {
        "id": "pFMLNfrW-fp2"
      },
      "execution_count": null,
      "outputs": []
    },
    {
      "cell_type": "code",
      "source": [
        "vba_macro_data_flow = llm.invoke(query_with_prompt).content\n",
        "vba_macro_data_flow.replace('\\n', ' ')"
      ],
      "metadata": {
        "colab": {
          "base_uri": "https://localhost:8080/",
          "height": 123
        },
        "id": "Mgp8gHhP-ffP",
        "outputId": "962a4abc-3166-473a-9c70-dd6cbea9263f"
      },
      "execution_count": null,
      "outputs": [
        {
          "output_type": "execute_result",
          "data": {
            "text/plain": [
              "\"Data Flow Analysis: In the `security_test` subroutine, data flows as follows: 1. The `username` and `password` variables are initialized with values entered by the user through the `InputBox` function. 2. The `ADODB.Connection` and `ADODB.Recordset` objects are created and assigned to the `con` and `rs` variables, respectively. 3. The `con` object's `Open` method is called with a connection string to establish a connection to the database. 4. The `sql` variable is assigned a string containing an SQL `INSERT` statement that uses the `username` and `password` variables as values. 5. The `con` object's `Execute` method is called with the `sql` string to execute the SQL statement, inserting the user-entered data into the `Users` table. 6. The `con` object's `Close` method is called to close the database connection.  Bottlenecks: The primary bottleneck in this code is the use of the `InputBox` function to gather user input. This function requires user interaction, which can be slow and prone to errors. Additionally, the code does not include any error handling, which could lead to issues if the SQL statement fails to execute or if the database connection cannot be established.  Optimization Opportunities: 1. Replace the `InputBox` function with hard-coded values or a configuration file to remove the need for user interaction and reduce processing time. 2. Implement error handling to catch and handle exceptions that may occur during data processing. 3. Consider using a parameterized query instead of directly inserting user-entered data into the SQL statement to prevent SQL injection attacks. 4. Use the `Execute` method's `RecordsAffected` property to verify that the SQL statement executed successfully and inserted the expected number of records.  Resource Usage: The code creates and destroys several objects during data processing, including the `con` and `rs` objects. This can lead to increased memory usage and slower processing times. Consider reusing these objects or implementing object pooling to improve resource usage.  Scalability: The code is not designed to handle varying data volumes or complexity. If the `Users` table contains a large number of records, the `INSERT` statement may take a long time to execute. Additionally, the code does not include any pagination or filtering options, which could be added to improve scalability.  In summary, the provided VBA macro code has several areas for optimization, including error handling, resource usage, and scalability. Implementing these optimizations can improve data processing efficiency and performance.\""
            ],
            "application/vnd.google.colaboratory.intrinsic+json": {
              "type": "string"
            }
          },
          "metadata": {},
          "execution_count": 21
        }
      ]
    },
    {
      "cell_type": "code",
      "source": [],
      "metadata": {
        "id": "0a5X2SLHL4jD"
      },
      "execution_count": null,
      "outputs": []
    },
    {
      "cell_type": "markdown",
      "source": [
        "**Legacy Macro Modernization Assistant**\n",
        "\n",
        "\n",
        "*   Assists in the modernization of VBA Macros by providing recommendations for refactoring or rewriting code\n",
        "\n"
      ],
      "metadata": {
        "id": "S-AtY5a4L5NP"
      }
    },
    {
      "cell_type": "code",
      "source": [
        "prompt_template_refactor=\"\"\"\n",
        "Please provide recommendations for refactoring or rewriting the given VBA Macro code (only if necessary) using modern programming languages and technologies to\n",
        "enhance maintainability, scalability, and performance.\n",
        "Consider the following:\n",
        "  Language and Technology Recommendations: Suggest suitable modern programming languages (e.g., Python) and technologies (e.g., APIs) that align with the macro's functionality.\n",
        "  Refactoring Strategies: Recommend specific refactoring techniques to improve code structure, readability, and maintainability.\n",
        "  Integration Possibilities: Explore integration options with other systems or platforms for enhanced functionality and interoperability.\n",
        "  Performance Optimization: Identify opportunities to optimize code performance and efficiency in the new environment.\n",
        "  Compatibility Considerations: Address compatibility issues or considerations when transitioning from VBA to modern languages or technologies.\n",
        "\n",
        "Please provide detailed guidance on how to effectively modernize the VBA Macro code, ensuring it meets current industry standards and best practices.\n",
        "\n",
        "Here is the VBA Macro code snippet:\n",
        "VBA Code:{question}\n",
        "\"\"\"\n",
        "\n",
        "prompt=PromptTemplate(template=prompt_template_refactor)\n",
        "\n",
        "query_with_prompt = prompt.format(question = vba_code)\n"
      ],
      "metadata": {
        "id": "-sP1jeTgMHLk"
      },
      "execution_count": null,
      "outputs": []
    },
    {
      "cell_type": "code",
      "source": [
        "vba_macro_refactor = llm.invoke(query_with_prompt).content\n",
        "vba_macro_refactor.replace('\\n', ' ')"
      ],
      "metadata": {
        "colab": {
          "base_uri": "https://localhost:8080/",
          "height": 331
        },
        "id": "nOfWlgcSJXeo",
        "outputId": "4656b36c-833d-41ae-ee97-510fc15ceeb5"
      },
      "execution_count": null,
      "outputs": [
        {
          "output_type": "execute_result",
          "data": {
            "text/plain": [
              "'I recommend refactoring the VBA macro code using Python, a modern programming language, and SQLAlchemy, a popular Object-Relational Mapping (ORM) tool for working with databases. This approach will enhance maintainability, scalability, and performance while addressing compatibility considerations.  Language and Technology Recommendations: - Python: A modern, high-level programming language with a large community, extensive libraries, and excellent support for database operations. - SQLAlchemy: A popular ORM tool for Python that simplifies database interactions and provides a more Pythonic interface for working with databases.  Refactoring Strategies: 1. Use a connection pool: SQLAlchemy provides a connection pool that manages connections efficiently, reducing overhead and improving performance. 2. Parameterize SQL queries: Prevent SQL injection attacks and improve code readability by using parameterized queries. 3. Use context managers for resource management: Automatically close connections and recordsets using Python\\'s `with` statement.  Integration Possibilities: - Integrate with web frameworks like Flask or Django for web-based applications. - Leverage Python libraries for data analysis, machine learning, or other advanced functionality.  Performance Optimization: - Use connection pooling for efficient connection management. - Utilize SQLAlchemy\\'s query optimization features. - Implement caching strategies for frequently accessed data.  Compatibility Considerations: - Python supports various database drivers, ensuring compatibility with your existing database (SQL Server, in this case). - Use the `pyodbc` library for connecting to SQL Server.  Here\\'s the refactored Python code:  ```python import sqlalchemy as sa from sqlalchemy.orm import sessionmaker from sqlalchemy.pool import QueuePool import pyodbc  # Define the database connection string connection_string = (     \"mssql+pyodbc://User Id=admin;Password=admin;\"     \"Driver={SQL Server};Server=MyDB;\"     \"Database=my_database;Trusted_Connection=no;\" )  # Define the User model class User(sa.Model):     __tablename__ = \"Users\"     id = sa.Column(sa.Integer, primary_key=True)     username = sa.Column(sa.String, nullable=False)     password = sa.Column(sa.String, nullable=False)  # Create an engine with a connection pool engine = sa.create_engine(     connection_string,     poolclass=QueuePool,     pool_size=5,     max_overflow=2,     pool_timeout=30, )  # Create a session factory Session = sessionmaker(bind=engine)  def security_test():     # Create a new session     with Session() as session:         # Get user input         username = input(\"Enter username: \")         password = input(\"Enter password: \")          # Insert the new user         new_user = User(username=username, password=password)         session.add(new_user)          # Commit the transaction         session.commit()  if __name__ == \"__main__\":     security_test() ```  This refactored code meets current industry standards and best practices, providing a more maintainable, scalable, and performant solution for your database operations.'"
            ],
            "application/vnd.google.colaboratory.intrinsic+json": {
              "type": "string"
            }
          },
          "metadata": {},
          "execution_count": 23
        }
      ]
    },
    {
      "cell_type": "markdown",
      "source": [
        "**Security and Compliance Checker**\n",
        "\n",
        "\n",
        "*   Checks VBA Macros for security vulnerabilities and adherance to best practices.\n",
        "\n"
      ],
      "metadata": {
        "id": "AyH9yhbiMHih"
      }
    },
    {
      "cell_type": "code",
      "source": [
        "def check_risky_patterns(vba_code):\n",
        "    '''\n",
        "    Args:\n",
        "      vba_code (str): The extracted VBA Macro code\n",
        "    Returns:\n",
        "      risks_found (list[str]): High risk keywords found in the VBA code\n",
        "    '''\n",
        "\n",
        "    risky_patterns = [\n",
        "        r'\\bShell\\b',\n",
        "        r'\\bExecute\\b',\n",
        "        r'\\bActiveX\\b'\n",
        "    ]\n",
        "\n",
        "    risks_found = []\n",
        "    for pattern in risky_patterns:\n",
        "        matches = re.findall(pattern, vba_code, re.IGNORECASE)\n",
        "        if matches:\n",
        "            risks_found.extend(matches)\n",
        "\n",
        "    return risks_found\n",
        "\n",
        "def check_error_handling(vba_code):\n",
        "    '''\n",
        "    Args:\n",
        "      vba_code (str): The extracted VBA Macro code\n",
        "    Returns:\n",
        "      True: If error handling feature available in VBA code\n",
        "    '''\n",
        "    if \"On Error\" not in vba_code:\n",
        "        return False\n",
        "    return True\n",
        "\n",
        "def sanitize_user_inputs(vba_code):\n",
        "    '''\n",
        "    Args:\n",
        "      vba_code (str): The extracted VBA Macro code\n",
        "    Returns:\n",
        "      sanitization_issues (list[str]): SQL patterns that are vulnerable to injection attacks\n",
        "    '''\n",
        "\n",
        "    sql_patterns = [\n",
        "        r'INSERT INTO',\n",
        "        r'SELECT \\* FROM',\n",
        "        r'UPDATE .* SET',\n",
        "        r'DELETE FROM'\n",
        "    ]\n",
        "\n",
        "    sanitization_issues = []\n",
        "    for pattern in sql_patterns:\n",
        "        if re.search(pattern, vba_code, re.IGNORECASE):\n",
        "            if \"'\" in vba_code:\n",
        "                sanitization_issues.append(pattern)\n",
        "\n",
        "    return sanitization_issues\n"
      ],
      "metadata": {
        "id": "5P4P4rmrOKT7"
      },
      "execution_count": null,
      "outputs": []
    },
    {
      "cell_type": "code",
      "source": [
        "risky_functions = check_risky_patterns(vba_code)\n",
        "error_handling = check_error_handling(vba_code)\n",
        "sanitization_issues = sanitize_user_inputs(vba_code)\n",
        "\n",
        "#report findings\n",
        "if risky_functions:\n",
        "    print(\"Risky Patterns Found:\")\n",
        "    for func in risky_functions:\n",
        "        print(f\" - {func}\")\n",
        "    print(\"The above listed functions pose a security risk. It may execute external applications, which could be exploited by attackers.\\n\")\n",
        "else:\n",
        "  print(\"No risky patterns identified in the given VBA Macro.\\n\")\n",
        "\n",
        "if not error_handling:\n",
        "    print(\"Error Handling: \\nNot present. Proper error handling is crucial to prevent the system from exposing sensitive information during errors and to ensure that the application behaves securely and predictably.\\n\")\n",
        "\n",
        "if sanitization_issues:\n",
        "    print(\"Sanitization Issues Found:\")\n",
        "    for issue in sanitization_issues:\n",
        "        print(f\" - {issue}\")\n",
        "    print(\"The above listed SQL patterns may be vulnerable to SQL injection if not properly parameterized. Ensure that SQL queries are constructed using parameterized queries or stored procedures to prevent injection attacks.\\n\")\n",
        "else:\n",
        "    print(\"All user inputs are properly sanitized, reducing the risk of injection attacks.\\n\")"
      ],
      "metadata": {
        "id": "W2HfD74zOKNM",
        "colab": {
          "base_uri": "https://localhost:8080/"
        },
        "outputId": "3d225b01-2115-4c5e-f573-75132486cdfe"
      },
      "execution_count": null,
      "outputs": [
        {
          "output_type": "stream",
          "name": "stdout",
          "text": [
            "Risky Patterns Found:\n",
            " - Execute\n",
            "The above listed functions pose a security risk. It may execute external applications, which could be exploited by attackers.\n",
            "\n",
            "Error Handling: \n",
            "Not present. Proper error handling is crucial to prevent the system from exposing sensitive information during errors and to ensure that the application behaves securely and predictably.\n",
            "\n",
            "Sanitization Issues Found:\n",
            " - INSERT INTO\n",
            "The above listed SQL patterns may be vulnerable to SQL injection if not properly parameterized. Ensure that SQL queries are constructed using parameterized queries or stored procedures to prevent injection attacks.\n",
            "\n"
          ]
        }
      ]
    },
    {
      "cell_type": "code",
      "source": [],
      "metadata": {
        "id": "PdwSSry12Ajl"
      },
      "execution_count": null,
      "outputs": []
    }
  ]
}